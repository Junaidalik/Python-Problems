{
 "cells": [
  {
   "cell_type": "markdown",
   "id": "632f92bc",
   "metadata": {},
   "source": [
    "### Find the Power of base by recursion "
   ]
  },
  {
   "cell_type": "code",
   "execution_count": 1,
   "id": "124fc528",
   "metadata": {},
   "outputs": [
    {
     "data": {
      "text/plain": [
       "0.1111111111111111"
      ]
     },
     "execution_count": 1,
     "metadata": {},
     "output_type": "execute_result"
    }
   ],
   "source": [
    "def Power(N,P):\n",
    "    if(P == 1):\n",
    "        return N\n",
    "    elif(P > 0):\n",
    "        return N * Power(N,P-1)\n",
    "    elif(P < 0):\n",
    "        \n",
    "        return 1/Power(N,-P)\n",
    "        \n",
    "Power(3,-2)\n",
    "\n"
   ]
  },
  {
   "cell_type": "markdown",
   "id": "8f380427",
   "metadata": {},
   "source": [
    "### Algorithm of Fibonacci series"
   ]
  },
  {
   "cell_type": "code",
   "execution_count": 1,
   "id": "5944a712",
   "metadata": {},
   "outputs": [
    {
     "name": "stdout",
     "output_type": "stream",
     "text": [
      "Enter number 5\n",
      "0\n",
      "1\n",
      "1\n",
      "2\n",
      "3\n"
     ]
    }
   ],
   "source": [
    "def Fib(n):\n",
    "    n1 = 0\n",
    "    n2 = 1\n",
    "    print(0)\n",
    "    print(1)\n",
    "    for i in range(2,n):\n",
    "        new_N = n1 + n2\n",
    "        n1 = n2\n",
    "        n2 = new_N\n",
    "        print(new_N)\n",
    "        \n",
    "number = int(input(\"Enter number \"))\n",
    "Fib(number)\n",
    "        \n",
    "        \n",
    "    \n",
    "    "
   ]
  },
  {
   "cell_type": "markdown",
   "id": "88622af3",
   "metadata": {},
   "source": [
    "### Check pallindrome or not "
   ]
  },
  {
   "cell_type": "code",
   "execution_count": 13,
   "id": "aa87ec82",
   "metadata": {},
   "outputs": [
    {
     "name": "stdout",
     "output_type": "stream",
     "text": [
      "3\n",
      "The given string is pallindrome\n"
     ]
    }
   ],
   "source": [
    "str = 'aba'\n",
    "\n",
    "def reverse(s):\n",
    "    # Reversing the string using extended slicing \n",
    "    s = s[::-1]\n",
    "    return s\n",
    "\n",
    "\n",
    "c1 = str[0:len(str)]\n",
    "# c2 = str[::-1]\n",
    "c2 = reverse(str)\n",
    "\n",
    "\n",
    "print(len(str))\n",
    "# print(c2)\n",
    "if(c1 == c2):\n",
    "    print(\"The given string is pallindrome\")\n",
    "else:\n",
    "    print(\"The given string is not pallindrome\")\n",
    "\n",
    "    "
   ]
  },
  {
   "cell_type": "markdown",
   "id": "d391b8d9",
   "metadata": {},
   "source": [
    " ### Find factorial of a given number"
   ]
  },
  {
   "cell_type": "code",
   "execution_count": 15,
   "id": "bda8cfd0",
   "metadata": {},
   "outputs": [
    {
     "data": {
      "text/plain": [
       "24"
      ]
     },
     "execution_count": 15,
     "metadata": {},
     "output_type": "execute_result"
    }
   ],
   "source": [
    "def factorial(n):\n",
    "    if n == 0:\n",
    "        return 1\n",
    "    elif n == 1:\n",
    "        return n\n",
    "    else:\n",
    "        return n * factorial(n-1)\n",
    "        \n",
    "factorial(4)"
   ]
  },
  {
   "cell_type": "code",
   "execution_count": 29,
   "id": "22599678",
   "metadata": {},
   "outputs": [
    {
     "data": {
      "text/plain": [
       "24"
      ]
     },
     "execution_count": 29,
     "metadata": {},
     "output_type": "execute_result"
    }
   ],
   "source": [
    "def fac(n):\n",
    "    i = 1\n",
    "    fac = 1\n",
    "    while i <= n:  \n",
    "        fac = fac * i\n",
    "        i = i+1\n",
    "    return fac\n",
    "        \n",
    "fac(4)\n",
    "        \n",
    "        \n",
    "        "
   ]
  },
  {
   "cell_type": "code",
   "execution_count": 33,
   "id": "a63f5941",
   "metadata": {},
   "outputs": [
    {
     "name": "stdout",
     "output_type": "stream",
     "text": [
      "Hello, World!\n",
      "az\n"
     ]
    }
   ],
   "source": [
    "b = \"Hello, World!\"\n",
    "print( b[0]+b[1:])\n",
    "\n",
    "str_1 = 'a'\n",
    "str_2 = 'z'\n",
    "print(str_1 + str_2)"
   ]
  },
  {
   "cell_type": "markdown",
   "id": "96e9aa1e",
   "metadata": {},
   "source": [
    " ### Reverse string"
   ]
  },
  {
   "cell_type": "code",
   "execution_count": 31,
   "id": "7fce99c5",
   "metadata": {},
   "outputs": [
    {
     "name": "stdout",
     "output_type": "stream",
     "text": [
      "The Reverse of  abcdfg is  gfdcba\n",
      "not pallindrome\n"
     ]
    }
   ],
   "source": [
    "def Reverse(str):\n",
    "    if len(str) == 0:\n",
    "        return str\n",
    "    else:\n",
    "        \n",
    "        return Reverse(str[1:]) + str[0]\n",
    "        \n",
    "#         c = str[0:len(str)-1]\n",
    "#         last_cha = str[len(str)-1]\n",
    "#         print(last_cha, end=\"\")\n",
    "#         Reverse(c)\n",
    "        \n",
    "       \n",
    "        \n",
    "       \n",
    "  \n",
    "    \n",
    "    \n",
    "          \n",
    "        \n",
    "         \n",
    "    \n",
    "str_1 = \"abcdfg\"\n",
    "str_2 = Reverse(str_1)\n",
    "\n",
    "\n",
    "print('The Reverse of ',str_1,'is ', str_2)\n",
    "\n",
    "if(str_1 == str_2):\n",
    "    print('pallindrome')\n",
    "else:\n",
    "    print('not pallindrome')\n",
    "\n",
    "        "
   ]
  },
  {
   "cell_type": "code",
   "execution_count": 113,
   "id": "ca831349",
   "metadata": {},
   "outputs": [
    {
     "name": "stdout",
     "output_type": "stream",
     "text": [
      "abscdf\n",
      "r\n"
     ]
    }
   ],
   "source": [
    "st = 'abscdfr'\n",
    "print(st[0:len(st)-1])\n",
    "print(st[len(st)-1])"
   ]
  },
  {
   "cell_type": "markdown",
   "id": "111b1db1",
   "metadata": {},
   "source": [
    "### Find longest pallindrome in a given string"
   ]
  },
  {
   "cell_type": "code",
   "execution_count": 88,
   "id": "2c822405",
   "metadata": {},
   "outputs": [
    {
     "name": "stdout",
     "output_type": "stream",
     "text": [
      "not pallindrome\n",
      "not pallindrome\n",
      "not pallindrome\n",
      "not pallindrome\n",
      "pallindrome\n",
      "radar\n",
      "pallindrome\n",
      "not pallindrome\n",
      "not pallindrome\n",
      "not pallindrome\n",
      "not pallindrome\n",
      "not pallindrome\n"
     ]
    }
   ],
   "source": [
    "def reverse(str):\n",
    "    if len(str) == 0:\n",
    "        return str\n",
    "    else:\n",
    "        return Reverse(str[1:]) + str[0]\n",
    "    \n",
    "    \n",
    "    \n",
    "    \n",
    "def long_pallindrome():\n",
    "    str = \"civicradar\"\n",
    "    str_1 = \"\"\n",
    "    for char in str:\n",
    "        str_1 = str_1 + char\n",
    "        if (str_1 == reverse(str_1) and len(str_1) > 1):\n",
    "            print(\"pallindrome\")\n",
    "            str_2 = str[len(str_1):]\n",
    "            print(str_2)\n",
    "            if (str_2 == reverse(str_2) and len(str_2) > 1):\n",
    "                print(\"pallindrome\")\n",
    "            \n",
    "            \n",
    "            \n",
    "        else:\n",
    "            print(\"not pallindrome\")\n",
    "            \n",
    "            \n",
    "long_pallindrome()   "
   ]
  },
  {
   "cell_type": "code",
   "execution_count": 62,
   "id": "55254b80",
   "metadata": {},
   "outputs": [
    {
     "name": "stdout",
     "output_type": "stream",
     "text": [
      "dsa\n"
     ]
    }
   ],
   "source": [
    "li = \"asd\"\n",
    "\n",
    "\n",
    "\n",
    "st = reverse(li)\n",
    "print(st)"
   ]
  },
  {
   "cell_type": "markdown",
   "id": "880c7972",
   "metadata": {},
   "source": [
    "### Reverse String using for loop"
   ]
  },
  {
   "cell_type": "code",
   "execution_count": 34,
   "id": "c2f35900",
   "metadata": {},
   "outputs": [
    {
     "data": {
      "text/plain": [
       "'fdcba'"
      ]
     },
     "execution_count": 34,
     "metadata": {},
     "output_type": "execute_result"
    }
   ],
   "source": [
    "def reverse(str):\n",
    "    st = \"\"\n",
    "    for i in str:\n",
    "        st = i + st\n",
    "    return st\n",
    "        \n",
    "reverse('abcdf')   "
   ]
  },
  {
   "cell_type": "markdown",
   "id": "69a625c8",
   "metadata": {},
   "source": [
    "### Sub string in a string"
   ]
  },
  {
   "cell_type": "code",
   "execution_count": 2,
   "id": "8d2bb16f",
   "metadata": {},
   "outputs": [
    {
     "name": "stdout",
     "output_type": "stream",
     "text": [
      "str not exist\n",
      "-1\n",
      "found\n"
     ]
    }
   ],
   "source": [
    "s = 'abaabacdsgs'\n",
    "result = s.find('sgsf')\n",
    "\n",
    "if(result == -1):\n",
    "    print(\"str not exist\")\n",
    "else:\n",
    "    print(\"str is there\")\n",
    "\n",
    "print(result)\n",
    "\n",
    "\n",
    "if 'aba' in s:\n",
    "    print(\"found\")\n",
    "else:\n",
    "    print(\"not found\")\n",
    "\n",
    "\n"
   ]
  },
  {
   "cell_type": "markdown",
   "id": "1aabf9a3",
   "metadata": {},
   "source": [
    "### How many sub string in a string"
   ]
  },
  {
   "cell_type": "code",
   "execution_count": 5,
   "id": "11fa7674",
   "metadata": {},
   "outputs": [
    {
     "name": "stdout",
     "output_type": "stream",
     "text": [
      "The abs count is: 3\n"
     ]
    }
   ],
   "source": [
    "str1 = \"ABSabtghsrewsabsjhabs\"\n",
    "sub_string = \"abs\"\n",
    "\n",
    "# convert string to lowercase\n",
    "temp_str = str1.lower()\n",
    "\n",
    "# use count function\n",
    "count = temp_str.count(sub_string.lower())\n",
    "print(\"The abs count is:\", count)"
   ]
  },
  {
   "cell_type": "markdown",
   "id": "3da6bdd2",
   "metadata": {},
   "source": [
    "### count of lettter in a string"
   ]
  },
  {
   "cell_type": "code",
   "execution_count": 29,
   "id": "2f8a1a96",
   "metadata": {},
   "outputs": [
    {
     "name": "stdout",
     "output_type": "stream",
     "text": [
      "Result: {'A': 2, 'p': 2, 'l': 1, 'e': 1}\n"
     ]
    }
   ],
   "source": [
    "str1 = \"AApple\"\n",
    "\n",
    "# create a result dictionary\n",
    "char_dict = dict()\n",
    "\n",
    "for char in str1:\n",
    "    count = str1.count(char)\n",
    "    # add / update the count of a character\n",
    "    char_dict[char] = count\n",
    "    \n",
    "print('Result:', char_dict)"
   ]
  },
  {
   "cell_type": "markdown",
   "id": "3fb641c5",
   "metadata": {},
   "source": [
    "### subsets in array"
   ]
  },
  {
   "cell_type": "code",
   "execution_count": 42,
   "id": "b6d3ed71",
   "metadata": {},
   "outputs": [
    {
     "name": "stdout",
     "output_type": "stream",
     "text": [
      "{(1, 1, 2)}\n"
     ]
    }
   ],
   "source": [
    "# Iterative function to print all distinct subsets of `S`\n",
    "def findPowerSet(S):\n",
    " \n",
    "    # `N` stores the total number of subsets\n",
    "    N = int(pow(2, len(S)))\n",
    "    s = set()\n",
    " \n",
    "    # sort the set\n",
    "    S.sort()\n",
    " \n",
    "    # generate each subset one by one\n",
    "    for i in range(N):\n",
    "        subset = []\n",
    "        # check every bit of `i`\n",
    "        for j in range(len(S)):\n",
    "            # if j'th bit of `i` is set, append `S[j]` to the subset\n",
    "            if i & (1 << j):\n",
    "                subset.append(S[j])\n",
    " \n",
    "        # insert the subset into the set\n",
    "        s.add(tuple(subset))\n",
    " \n",
    "    # print all subsets present in the set\n",
    "    print(s)\n",
    " \n",
    " \n",
    "if __name__ == '__main__':\n",
    " \n",
    "    S = [1, 2, 1]\n",
    "    findPowerSet(S)"
   ]
  },
  {
   "cell_type": "markdown",
   "id": "9e14a46e",
   "metadata": {},
   "source": [
    "### push letter in cache array/List from random string /arrayList A-Z"
   ]
  },
  {
   "cell_type": "code",
   "execution_count": 73,
   "id": "729b21f2",
   "metadata": {},
   "outputs": [
    {
     "name": "stdout",
     "output_type": "stream",
     "text": [
      "['T', 'W', 'Y', 'U', 'R', 'J', 'O', 'R', '{', 'P', 'O', 'B', 'S', 'H', 'R', 'E', 'H', 'V', 'K', 'E', 'V', 'Z', 'G', 'O', '{', 'X']\n",
      "True\n"
     ]
    }
   ],
   "source": [
    "import random\n",
    "\n",
    "def Letter():\n",
    "    List_Capital_Letters = []\n",
    "    for num in range(26):\n",
    "        number = random.randint(97,123)\n",
    "        Letter = chr(number).upper()\n",
    "        List_Capital_Letters.append(Letter)         \n",
    "        \n",
    "    return List_Capital_Letters[:]\n",
    "\n",
    "\n",
    "\n",
    "StrArr = Letter()\n",
    "print(StrArr)\n",
    "\n",
    "Cache = ['S']\n",
    "\n",
    "\n",
    "print(response)\n",
    "for letter in StrArr:\n",
    "    response = any(letter in Cache for letter in StrArr)\n",
    "    if(response == False):\n",
    "        Cache.append(letter)\n",
    "        print(Cache[:])\n",
    "    \n",
    "    "
   ]
  },
  {
   "cell_type": "code",
   "execution_count": 1,
   "id": "685d82aa",
   "metadata": {},
   "outputs": [
    {
     "name": "stdout",
     "output_type": "stream",
     "text": [
      "\n",
      "1\n",
      "1 2\n",
      "1 2 3\n",
      "1 3\n",
      "2\n",
      "2 3\n",
      "3\n"
     ]
    }
   ],
   "source": [
    "def subsetsUtil(A, subset, index):\n",
    "    \n",
    "    print(*subset)\n",
    "    \n",
    "    for i in range(index, len(A)):\n",
    "        subset.append(A[i])\n",
    "        \n",
    "        subsetsUtil(A, subset, i + 1)\n",
    "        \n",
    "        subset.pop(-1)\n",
    "\n",
    "    return\n",
    "\n",
    "\n",
    "def subsets(A):\n",
    "    global res\n",
    "    subset = []\n",
    "    index = 0\n",
    "    subsetsUtil(A, subset, index)\n",
    "\n",
    "\n",
    "\n",
    "\n",
    "array = [1, 2, 3]\n",
    "\n",
    "subsets(array)\n",
    "\n"
   ]
  },
  {
   "cell_type": "code",
   "execution_count": 100,
   "id": "c24f87f3",
   "metadata": {},
   "outputs": [
    {
     "name": "stdout",
     "output_type": "stream",
     "text": [
      "[1, 2, 4]\n",
      "[1, 2]\n",
      "[1, 4]\n",
      "[1]\n",
      "[2, 4]\n",
      "[2]\n",
      "[4]\n",
      "[]\n"
     ]
    },
    {
     "data": {
      "text/plain": [
       "[[1, 2, 4], [1, 2], [1, 4], [1], [2, 4], [2], [4], []]"
      ]
     },
     "execution_count": 100,
     "metadata": {},
     "output_type": "execute_result"
    }
   ],
   "source": [
    "def rec(arr, index, subset, subsets):\n",
    "   \n",
    "    if index == len(arr):\n",
    "        subsets.append(subset.copy())\n",
    "    else:\n",
    "        \n",
    "        rec(arr, index+1, subset + [arr[index]], subsets)\n",
    "        rec(arr, index+1, subset, subsets)\n",
    "\n",
    "def get_subsets(arr):\n",
    "    subsets = []\n",
    "    subset = []\n",
    "    rec(arr, 0, subset, subsets)\n",
    "    return subsets\n",
    "\n",
    "get_subsets([1,2,4])\n",
    "    \n",
    "        "
   ]
  },
  {
   "cell_type": "code",
   "execution_count": 1,
   "id": "f5f98943",
   "metadata": {},
   "outputs": [
    {
     "name": "stdout",
     "output_type": "stream",
     "text": [
      "[87]\n"
     ]
    }
   ],
   "source": [
    "ar = [1,87,2]\n",
    "arry = []\n",
    "arry = arry + [ar[1]]\n",
    "print(arry)"
   ]
  },
  {
   "cell_type": "markdown",
   "id": "8c3ec138",
   "metadata": {},
   "source": [
    "### Type conversion in python"
   ]
  },
  {
   "cell_type": "code",
   "execution_count": 18,
   "id": "8b56bc1b",
   "metadata": {},
   "outputs": [
    {
     "name": "stdout",
     "output_type": "stream",
     "text": [
      "1\n",
      "1.2\n",
      "65\n",
      "A\n",
      "\n"
     ]
    }
   ],
   "source": [
    "a = 6/5\n",
    "r_0 = int(a)\n",
    "r_1 = float(a)\n",
    "print(r_0)\n",
    "print(r_1)\n",
    "\n",
    "r_2 = ord('A')\n",
    "r_3 = chr(65)\n",
    "print(r_2)\n",
    "print(r_3)\n",
    "\n",
    "\n",
    "r_4 = str()\n",
    "print(r_4)"
   ]
  },
  {
   "cell_type": "markdown",
   "id": "dc6ea973",
   "metadata": {},
   "source": [
    "### Object and Class [OOP CONCEPTS]"
   ]
  },
  {
   "cell_type": "code",
   "execution_count": 4,
   "id": "7744d515",
   "metadata": {},
   "outputs": [
    {
     "name": "stdout",
     "output_type": "stream",
     "text": [
      "highness fly\n",
      "roar\n",
      "growling\n"
     ]
    }
   ],
   "source": [
    "class Animal:\n",
    "    def __init__(self, voice):\n",
    "        self.vice = voice\n",
    "    def eagle(self):\n",
    "        print(self.vice)\n",
    "    def lion(self):\n",
    "        print(self.vice)\n",
    "    def wolf(self):\n",
    "        print(self.vice)\n",
    "        \n",
    "        \n",
    "        \n",
    "obj_1 = Animal(\"highness fly\")\n",
    "obj_2 = Animal(\"roar\")\n",
    "obj_3 = Animal(\"growling\")\n",
    "\n",
    "obj_1.eagle()\n",
    "obj_2.lion()\n",
    "obj_3.wolf()\n"
   ]
  },
  {
   "cell_type": "markdown",
   "id": "ab8e453f",
   "metadata": {},
   "source": [
    "### Inheritence"
   ]
  },
  {
   "cell_type": "code",
   "execution_count": 14,
   "id": "0daf68b3",
   "metadata": {},
   "outputs": [
    {
     "name": "stdout",
     "output_type": "stream",
     "text": [
      "highness\n",
      "animal voice highness\n"
     ]
    }
   ],
   "source": [
    "class Animal:\n",
    "    def __init__(self,voice):\n",
    "        self.vice = voice\n",
    "    def voice_(self):\n",
    "        print(\"animal voice\",self.vice)\n",
    "\n",
    "        \n",
    "class Eagle(Animal):\n",
    "    def __init__(self, voice):\n",
    "        self.vice = voice\n",
    "    def eagle_voice(self):\n",
    "        print(self.vice)\n",
    "        \n",
    "obj = Eagle(\"highness\")\n",
    "obj.eagle_voice()\n",
    "obj.voice_()"
   ]
  },
  {
   "cell_type": "code",
   "execution_count": 1,
   "id": "627bd401",
   "metadata": {},
   "outputs": [
    {
     "name": "stdout",
     "output_type": "stream",
     "text": [
      "12\n",
      "14\n",
      "12\n"
     ]
    }
   ],
   "source": [
    "class Mobile:\n",
    "    a = 10\n",
    "\n",
    "redmi =Mobile()\n",
    "oppo = Mobile()\n",
    "Mobile.a = 12\n",
    "oppo.a =14\n",
    "\n",
    "# If we change value by accessing Class name then it \n",
    "# change for all objects. If we change value for a particular object then \n",
    "# it change only for that object not for the other.\n",
    "\n",
    "print(Mobile.a)\n",
    "print(oppo.a)\n",
    "print(redmi.a)"
   ]
  },
  {
   "cell_type": "code",
   "execution_count": 14,
   "id": "4d0c01b0",
   "metadata": {},
   "outputs": [
    {
     "name": "stdout",
     "output_type": "stream",
     "text": [
      "1 2 4 5 6 array('i', [6, 5, 4, 2, 1])\n"
     ]
    }
   ],
   "source": [
    "import array as arr\n",
    "\n",
    "Arr = arr.array('i',[1,2,4,5,6])\n",
    "for i in range(0,len(Arr)):\n",
    "    print(Arr[i],end=\" \")\n",
    "\n",
    "\n",
    "rev = Arr[::-1]\n",
    "print(rev)\n"
   ]
  },
  {
   "cell_type": "code",
   "execution_count": 147,
   "id": "84db0877",
   "metadata": {},
   "outputs": [
    {
     "name": "stdout",
     "output_type": "stream",
     "text": [
      "Length of row = 3\n",
      "Length of col = 3\n",
      "7\n",
      "6\n",
      "8\n",
      "9\n",
      "0\n",
      "1\n",
      "2\n",
      "4\n",
      "5\n",
      "7 6 8 \n",
      "9 0 1 \n",
      "2 4 5 \n"
     ]
    }
   ],
   "source": [
    "rows = int(input(\"Length of row = \"))\n",
    "cols = int(input(\"Length of col = \"))\n",
    "matrix = []\n",
    "for i in range(rows):\n",
    "    row=[]\n",
    "    for j in range(cols):\n",
    "        row.append(int(input()))\n",
    "    matrix.append(row)\n",
    "\n",
    "for i in range(rows):\n",
    "    for j in range(cols):\n",
    "        print(matrix[i][j], end=\" \")\n",
    "    print()\n",
    "            \n",
    "            \n",
    "\n",
    "\n",
    "        "
   ]
  },
  {
   "cell_type": "code",
   "execution_count": null,
   "id": "f5cd7eb0",
   "metadata": {},
   "outputs": [],
   "source": []
  },
  {
   "cell_type": "code",
   "execution_count": 148,
   "id": "08907b89",
   "metadata": {},
   "outputs": [
    {
     "name": "stdout",
     "output_type": "stream",
     "text": [
      "7 9 2 \n",
      "6 0 4 \n",
      "8 1 5 \n"
     ]
    }
   ],
   "source": [
    "def rotate_matrix_at_90_degree_clock_wise(matric):\n",
    "    for i in range(rows):\n",
    "        for j in range(cols):\n",
    "            print(matric[j][i],end=\" \")\n",
    "        print()\n",
    "            \n",
    "    \n",
    "rotate_matrix_at_90_degree_clock_wise(matrix)    "
   ]
  },
  {
   "cell_type": "code",
   "execution_count": 155,
   "id": "e6064508",
   "metadata": {},
   "outputs": [
    {
     "name": "stdout",
     "output_type": "stream",
     "text": [
      "[2, 4, 5] [9, 0, 1] [7, 6, 8] \n"
     ]
    }
   ],
   "source": [
    "def rotate_matrix_at_90_degree_anti_clock_wise(matric):\n",
    "    for i in range(rows):\n",
    "        for j in range(cols):\n",
    "            matric[j][i]\n",
    "            rsult=matric[::-1]\n",
    "    print(*rsult,end=\" \")\n",
    "    print()\n",
    "    \n",
    "            \n",
    "    \n",
    "rotate_matrix_at_90_degree_anti_clock_wise(matrix) "
   ]
  },
  {
   "cell_type": "code",
   "execution_count": null,
   "id": "06002ea8",
   "metadata": {},
   "outputs": [],
   "source": []
  },
  {
   "cell_type": "code",
   "execution_count": 123,
   "id": "9a0459a7",
   "metadata": {},
   "outputs": [
    {
     "name": "stdout",
     "output_type": "stream",
     "text": [
      "________________$\n",
      "_______________$$$\n",
      "______________$$$$$\n",
      "_____________$$$$$$$\n",
      "____________$$$$$$$$$\n",
      "___________$$$$$$$$$$$\n",
      "__________$$$$$$$$$$$$$\n",
      "_________$$$$$$$$$$$$$$$\n",
      "________$$$$$$$$$$$$$$$$$\n"
     ]
    }
   ],
   "source": [
    "def pyramid(n):\n",
    "    k = n-1\n",
    "    for i in range(0,n,2):\n",
    "        for j in range(0, k):\n",
    "            print(end=\"_\")\n",
    "     \n",
    "        # decrementing k after each loop\n",
    "        k = k - 1\n",
    "        for j in range(0,i+1):\n",
    "            print(\"$\",end=\"\")\n",
    "        print()\n",
    "\n",
    "\n",
    "        \n",
    "pyramid(17)\n",
    "    "
   ]
  },
  {
   "cell_type": "code",
   "execution_count": null,
   "id": "96f4ad84",
   "metadata": {},
   "outputs": [],
   "source": []
  },
  {
   "cell_type": "code",
   "execution_count": null,
   "id": "a37498b8",
   "metadata": {},
   "outputs": [],
   "source": []
  },
  {
   "cell_type": "code",
   "execution_count": 137,
   "id": "9dd1a7fd",
   "metadata": {},
   "outputs": [
    {
     "name": "stdout",
     "output_type": "stream",
     "text": [
      "______$ \n",
      "_____$ $ \n",
      "____$ $ $ \n",
      "___$ $ $ $ \n",
      "__$ $ $ $ $ \n",
      "_$ $ $ $ $ $ \n",
      "$ $ $ $ $ $ $ \n"
     ]
    }
   ],
   "source": [
    "def tri(n):\n",
    "    k=n-1\n",
    "    for i in range(0, n):\n",
    "        for j in range(0,k):\n",
    "            print(end=\"_\")\n",
    "        k=k-1\n",
    "        for j in range(0, i+1):\n",
    "            print(\"$ \", end=\"\")\n",
    "        print()\n",
    "tri(7)\n",
    "       \n",
    " "
   ]
  },
  {
   "cell_type": "code",
   "execution_count": 156,
   "id": "b4681fb0",
   "metadata": {},
   "outputs": [
    {
     "name": "stdout",
     "output_type": "stream",
     "text": [
      "$\n",
      "$$\n",
      "$$$\n",
      "$$$$\n",
      "$$$$$\n",
      "$$$$$$\n",
      "$$$$$$$\n"
     ]
    }
   ],
   "source": [
    "def tri(n):\n",
    "    for i in range(0, n):\n",
    "        for j in range(0, i+1):\n",
    "            print(\"$\", end=\"\")\n",
    "        print()\n",
    "tri(7)"
   ]
  },
  {
   "cell_type": "code",
   "execution_count": null,
   "id": "b80a1787",
   "metadata": {},
   "outputs": [],
   "source": []
  },
  {
   "cell_type": "code",
   "execution_count": null,
   "id": "7c0d61a7",
   "metadata": {},
   "outputs": [],
   "source": []
  },
  {
   "cell_type": "code",
   "execution_count": 4,
   "id": "d6b08e98",
   "metadata": {},
   "outputs": [
    {
     "name": "stdout",
     "output_type": "stream",
     "text": [
      "6\n",
      "10\n",
      "16\n",
      "26\n"
     ]
    },
    {
     "ename": "IndexError",
     "evalue": "list index out of range",
     "output_type": "error",
     "traceback": [
      "\u001b[1;31m---------------------------------------------------------------------------\u001b[0m",
      "\u001b[1;31mIndexError\u001b[0m                                Traceback (most recent call last)",
      "Cell \u001b[1;32mIn [4], line 6\u001b[0m\n\u001b[0;32m      3\u001b[0m     \u001b[38;5;28;01mfor\u001b[39;00m i \u001b[38;5;129;01min\u001b[39;00m \u001b[38;5;28mrange\u001b[39m(\u001b[38;5;28mlen\u001b[39m(\u001b[38;5;28mlist\u001b[39m)):\n\u001b[0;32m      4\u001b[0m         \u001b[38;5;28mprint\u001b[39m(\u001b[38;5;28mlist\u001b[39m[i]\u001b[38;5;241m+\u001b[39m\u001b[38;5;28mlist\u001b[39m[i\u001b[38;5;241m+\u001b[39m\u001b[38;5;241m1\u001b[39m])\n\u001b[1;32m----> 6\u001b[0m \u001b[43mfib_num\u001b[49m\u001b[43m(\u001b[49m\u001b[43m)\u001b[49m   \n\u001b[0;32m      8\u001b[0m \u001b[38;5;28;01mdef\u001b[39;00m \u001b[38;5;21mfibnacci_subset\u001b[39m():\n\u001b[0;32m      9\u001b[0m     \u001b[38;5;28;01mpass\u001b[39;00m\n",
      "Cell \u001b[1;32mIn [4], line 4\u001b[0m, in \u001b[0;36mfib_num\u001b[1;34m()\u001b[0m\n\u001b[0;32m      2\u001b[0m \u001b[38;5;28mlist\u001b[39m\u001b[38;5;241m=\u001b[39m[\u001b[38;5;241m2\u001b[39m,\u001b[38;5;241m4\u001b[39m,\u001b[38;5;241m6\u001b[39m,\u001b[38;5;241m10\u001b[39m,\u001b[38;5;241m16\u001b[39m]\n\u001b[0;32m      3\u001b[0m \u001b[38;5;28;01mfor\u001b[39;00m i \u001b[38;5;129;01min\u001b[39;00m \u001b[38;5;28mrange\u001b[39m(\u001b[38;5;28mlen\u001b[39m(\u001b[38;5;28mlist\u001b[39m)):\n\u001b[1;32m----> 4\u001b[0m     \u001b[38;5;28mprint\u001b[39m(\u001b[38;5;28mlist\u001b[39m[i]\u001b[38;5;241m+\u001b[39m\u001b[38;5;28;43mlist\u001b[39;49m\u001b[43m[\u001b[49m\u001b[43mi\u001b[49m\u001b[38;5;241;43m+\u001b[39;49m\u001b[38;5;241;43m1\u001b[39;49m\u001b[43m]\u001b[49m)\n",
      "\u001b[1;31mIndexError\u001b[0m: list index out of range"
     ]
    }
   ],
   "source": [
    "def fib_num():\n",
    "    list=[2,4,6,10,16]\n",
    "    for i in range(len(list)):\n",
    "        print(list[i]+list[i+1])\n",
    "        \n",
    "fib_num()   \n",
    "\n",
    "# def fibnacci_subset():\n",
    "#     pass\n",
    "    "
   ]
  },
  {
   "cell_type": "code",
   "execution_count": null,
   "id": "48deab03",
   "metadata": {},
   "outputs": [],
   "source": []
  }
 ],
 "metadata": {
  "kernelspec": {
   "display_name": "Python 3 (ipykernel)",
   "language": "python",
   "name": "python3"
  },
  "language_info": {
   "codemirror_mode": {
    "name": "ipython",
    "version": 3
   },
   "file_extension": ".py",
   "mimetype": "text/x-python",
   "name": "python",
   "nbconvert_exporter": "python",
   "pygments_lexer": "ipython3",
   "version": "3.10.0"
  }
 },
 "nbformat": 4,
 "nbformat_minor": 5
}
