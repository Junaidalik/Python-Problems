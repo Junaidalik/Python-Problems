{
 "cells": [
  {
   "cell_type": "markdown",
   "metadata": {},
   "source": [
    "### DSA CONCEPTS IMPLEMENTATION IN PYTHON"
   ]
  },
  {
   "cell_type": "code",
   "execution_count": 12,
   "metadata": {},
   "outputs": [
    {
     "name": "stdout",
     "output_type": "stream",
     "text": [
      "<class 'module'>\n",
      "size of 0 in bytes =  24\n",
      "size of 8 in bytes =  28\n",
      "size of 1 in bytes =  28\n",
      "size of 2 in bytes =  28\n",
      "size of 3 in bytes =  28\n",
      "size of 6 in bytes =  28\n"
     ]
    }
   ],
   "source": [
    "import array as arr\n",
    "from sys import getsizeof \n",
    "\n",
    "\n",
    "print(type(arr))\n",
    "\n",
    "Number = arr.array('i',[0,8,1,2,3,6])\n",
    "\n",
    "for i in Number:\n",
    "    size = getsizeof(i) # size of a integer in bytes\n",
    "    print('size of',i,'in bytes = ',size)\n"
   ]
  },
  {
   "cell_type": "code",
   "execution_count": 24,
   "metadata": {},
   "outputs": [
    {
     "name": "stdout",
     "output_type": "stream",
     "text": [
      "(1600056679088, 6)\n"
     ]
    }
   ],
   "source": [
    "print(Number.buffer_info()) # these 5 elements are stored on this address ---- "
   ]
  },
  {
   "cell_type": "code",
   "execution_count": 14,
   "metadata": {},
   "outputs": [
    {
     "name": "stdout",
     "output_type": "stream",
     "text": [
      "i\n"
     ]
    }
   ],
   "source": [
    "print(Number.typecode) # it tells which type of array elemnts its integer or float etc."
   ]
  },
  {
   "cell_type": "code",
   "execution_count": 34,
   "metadata": {},
   "outputs": [
    {
     "name": "stdout",
     "output_type": "stream",
     "text": [
      "Array in reverse order\n",
      "0\n",
      "8\n",
      "1\n",
      "2\n",
      "3\n",
      "6\n"
     ]
    }
   ],
   "source": [
    "Number.reverse()\n",
    "print(\"Array in reverse order\")\n",
    "for i in Number:\n",
    "    print(i)"
   ]
  },
  {
   "cell_type": "markdown",
   "metadata": {},
   "source": [
    "### Write a function that remove all exclamation sign from a given string"
   ]
  },
  {
   "cell_type": "code",
   "execution_count": 2,
   "metadata": {},
   "outputs": [
    {
     "name": "stdout",
     "output_type": "stream",
     "text": [
      "Hi junaid"
     ]
    }
   ],
   "source": [
    "def remove_Exclamation_marks(s):\n",
    "    for char in s:\n",
    "        if(char == '!'):\n",
    "            continue\n",
    "        else:\n",
    "            print(char,end=\"\")\n",
    "\n",
    "remove_Exclamation_marks(\"Hi! jun!aid!\")"
   ]
  },
  {
   "cell_type": "markdown",
   "metadata": {},
   "source": [
    "### write a function to replace a character in a given string"
   ]
  },
  {
   "cell_type": "code",
   "execution_count": 4,
   "metadata": {},
   "outputs": [
    {
     "data": {
      "text/plain": [
       "'Hz junazd'"
      ]
     },
     "execution_count": 4,
     "metadata": {},
     "output_type": "execute_result"
    }
   ],
   "source": [
    "def replace_Char(str):\n",
    "    Str = str.replace('i','z')\n",
    "    return Str\n",
    "replace_Char(\"Hi junaid\")"
   ]
  },
  {
   "cell_type": "code",
   "execution_count": 78,
   "metadata": {},
   "outputs": [
    {
     "name": "stdout",
     "output_type": "stream",
     "text": [
      "-- j -- is repeated -- 1 -- times.\n",
      "-- u -- is repeated -- 2 -- times.\n",
      "-- n -- is repeated -- 4 -- times.\n",
      "-- a -- is repeated -- 6 -- times.\n",
      "-- i -- is repeated -- 6 -- times.\n",
      "-- d -- is repeated -- 2 -- times.\n",
      "--   -- is repeated -- 12 -- times.\n",
      "-- a -- is repeated -- 6 -- times.\n",
      "-- l -- is repeated -- 3 -- times.\n",
      "-- i -- is repeated -- 6 -- times.\n",
      "--   -- is repeated -- 12 -- times.\n",
      "-- k -- is repeated -- 1 -- times.\n",
      "-- h -- is repeated -- 1 -- times.\n",
      "-- a -- is repeated -- 6 -- times.\n",
      "-- n -- is repeated -- 4 -- times.\n",
      "--   -- is repeated -- 12 -- times.\n",
      "-- i -- is repeated -- 6 -- times.\n",
      "-- s -- is repeated -- 2 -- times.\n",
      "--   -- is repeated -- 12 -- times.\n",
      "-- n -- is repeated -- 4 -- times.\n",
      "-- o -- is repeated -- 2 -- times.\n",
      "-- w -- is repeated -- 1 -- times.\n",
      "--   -- is repeated -- 12 -- times.\n",
      "-- t -- is repeated -- 5 -- times.\n",
      "-- y -- is repeated -- 2 -- times.\n",
      "-- p -- is repeated -- 2 -- times.\n",
      "-- i -- is repeated -- 6 -- times.\n",
      "-- n -- is repeated -- 4 -- times.\n",
      "-- g -- is repeated -- 1 -- times.\n",
      "--   -- is repeated -- 12 -- times.\n",
      "-- v -- is repeated -- 1 -- times.\n",
      "-- e -- is repeated -- 3 -- times.\n",
      "-- r -- is repeated -- 2 -- times.\n",
      "-- y -- is repeated -- 2 -- times.\n",
      "--   -- is repeated -- 12 -- times.\n",
      "-- f -- is repeated -- 1 -- times.\n",
      "-- a -- is repeated -- 6 -- times.\n",
      "-- s -- is repeated -- 2 -- times.\n",
      "-- t -- is repeated -- 5 -- times.\n",
      "-- , -- is repeated -- 1 -- times.\n",
      "--   -- is repeated -- 12 -- times.\n",
      "-- i -- is repeated -- 6 -- times.\n",
      "-- t -- is repeated -- 5 -- times.\n",
      "--   -- is repeated -- 12 -- times.\n",
      "-- a -- is repeated -- 6 -- times.\n",
      "-- l -- is repeated -- 3 -- times.\n",
      "-- l -- is repeated -- 3 -- times.\n",
      "--   -- is repeated -- 12 -- times.\n",
      "-- d -- is repeated -- 2 -- times.\n",
      "-- u -- is repeated -- 2 -- times.\n",
      "-- e -- is repeated -- 3 -- times.\n",
      "--   -- is repeated -- 12 -- times.\n",
      "-- t -- is repeated -- 5 -- times.\n",
      "-- o -- is repeated -- 2 -- times.\n",
      "--   -- is repeated -- 12 -- times.\n",
      "-- p -- is repeated -- 2 -- times.\n",
      "-- r -- is repeated -- 2 -- times.\n",
      "-- a -- is repeated -- 6 -- times.\n",
      "-- c -- is repeated -- 2 -- times.\n",
      "-- t -- is repeated -- 5 -- times.\n",
      "-- i -- is repeated -- 6 -- times.\n",
      "-- c -- is repeated -- 2 -- times.\n",
      "-- e -- is repeated -- 3 -- times.\n"
     ]
    }
   ],
   "source": [
    "def CountChar():\n",
    "    str = \"junaid ali khan is now typing very fast, it all due to practice\"\n",
    "    for chr in str:\n",
    "        N = str.count(chr)\n",
    "        print(\"--\",chr,'-- is repeated --',N,'-- times.')\n",
    "\n",
    "    \n",
    "CountChar()"
   ]
  },
  {
   "cell_type": "code",
   "execution_count": 148,
   "metadata": {},
   "outputs": [
    {
     "data": {
      "text/plain": [
       "[2, 4, 5]"
      ]
     },
     "execution_count": 148,
     "metadata": {},
     "output_type": "execute_result"
    }
   ],
   "source": [
    "import array as arr\n",
    "def Capital_indexes(str):\n",
    "    list = []\n",
    "    # Arr = arr.array('i',[])\n",
    "    for chr in str:\n",
    "        ascii = ord(chr)\n",
    "        if(ascii>= 65 and ascii<= 90):\n",
    "            I = str.index(chr)\n",
    "            list.append(I)\n",
    "            # Arr.append(I)\n",
    "\n",
    "    return list\n",
    "\n",
    "\n",
    "Capital_indexes(\"juNaID\")"
   ]
  },
  {
   "cell_type": "code",
   "execution_count": 8,
   "metadata": {},
   "outputs": [
    {
     "data": {
      "text/plain": [
       "[0, 5]"
      ]
     },
     "execution_count": 8,
     "metadata": {},
     "output_type": "execute_result"
    }
   ],
   "source": [
    "def Capital_indexes(str):\n",
    "    list = []\n",
    "    for chr in str:\n",
    "        if chr.isupper():\n",
    "            I = str.index(chr)\n",
    "            list.append(I)\n",
    "    return list\n",
    "\n",
    "\n",
    "Capital_indexes(\"JunaiD\")"
   ]
  },
  {
   "cell_type": "code",
   "execution_count": 25,
   "metadata": {},
   "outputs": [
    {
     "name": "stdout",
     "output_type": "stream",
     "text": [
      "[1, 2, 3, 4]\n",
      "1\n",
      "2\n",
      "3\n",
      "4\n",
      "5\n",
      "6\n",
      "7\n",
      "8\n"
     ]
    }
   ],
   "source": [
    "from array import *\n",
    "\n",
    "arr = [[1,2,3,4],[5,6,7,8]]\n",
    "\n",
    "print(arr[0])\n",
    "\n",
    "for i in arr:\n",
    "    for j in i:\n",
    "        print(j)\n",
    "\n",
    "\n",
    "\n"
   ]
  },
  {
   "cell_type": "markdown",
   "metadata": {},
   "source": [
    "### 2. Link list implementation"
   ]
  },
  {
   "cell_type": "code",
   "execution_count": 65,
   "metadata": {},
   "outputs": [
    {
     "name": "stdout",
     "output_type": "stream",
     "text": [
      "1 2 3 "
     ]
    }
   ],
   "source": [
    "# Linked list implementation in Python\n",
    "\n",
    "\n",
    "class Node:\n",
    "    # Creating a node\n",
    "    def __init__(self, item):\n",
    "        self.item = item\n",
    "        self.next = None\n",
    "\n",
    "\n",
    "class LinkedList:\n",
    "\n",
    "    def __init__(self):\n",
    "        self.head = None\n",
    "\n",
    "\n",
    "if __name__ == '__main__':\n",
    "\n",
    "    linked_list = LinkedList()\n",
    "\n",
    "    # Assign item values\n",
    "    linked_list.head = Node(1)\n",
    "    second = Node(2)\n",
    "    third = Node(3)\n",
    "\n",
    "    # Connect nodes\n",
    "    linked_list.head.next = second\n",
    "    second.next = third\n",
    "    third.next = None\n",
    "\n",
    "    # Print the linked list item\n",
    "    while linked_list.head != None:\n",
    "        print(linked_list.head.item, end=\" \")\n",
    "        linked_list.head = linked_list.head.next"
   ]
  },
  {
   "cell_type": "markdown",
   "metadata": {},
   "source": [
    "#### List operations"
   ]
  },
  {
   "cell_type": "code",
   "execution_count": 46,
   "metadata": {},
   "outputs": [
    {
     "name": "stdout",
     "output_type": "stream",
     "text": [
      "[0, 1, 2, 3, 4, 5, 6, 7, 8, 9]\n",
      "[0, 1, 2, 3, 4, 5, 6, 7, 8, 9, 12]\n",
      "[0, 1, 'Hello', 2, 3, 4, 5, 6, 7, 8, 9, 12]\n"
     ]
    }
   ],
   "source": [
    "myList = list(range(0,10))\n",
    "print(myList)\n",
    "\n",
    "myList.append(12)\n",
    "print(myList)\n",
    "\n",
    "myList.insert(2,'Hello')\n",
    "print(myList)\n"
   ]
  },
  {
   "cell_type": "code",
   "execution_count": 35,
   "metadata": {},
   "outputs": [
    {
     "name": "stdout",
     "output_type": "stream",
     "text": [
      "[0, 1, 2, 3, 4, 5, 6, 7, 8, 9]\n"
     ]
    }
   ],
   "source": [
    "myList.pop(2)\n",
    "print(myList)"
   ]
  },
  {
   "cell_type": "code",
   "execution_count": 43,
   "metadata": {},
   "outputs": [
    {
     "name": "stdout",
     "output_type": "stream",
     "text": [
      "[1, 3, 4, 6, 7]\n"
     ]
    }
   ],
   "source": [
    "myList.remove(9)\n",
    "print(myList)"
   ]
  },
  {
   "cell_type": "code",
   "execution_count": 21,
   "metadata": {},
   "outputs": [
    {
     "name": "stdout",
     "output_type": "stream",
     "text": [
      "<__main__.Computer object at 0x00000199D31F6740>\n",
      "The config i5 8\n",
      "2nd methods\n"
     ]
    }
   ],
   "source": [
    "class Computer:\n",
    "    def __init__(self, cpu, ram):\n",
    "        self.cpu = cpu\n",
    "        self.ram = ram \n",
    "\n",
    "\n",
    "        \n",
    "    def config(self):\n",
    "        print('The config',self.cpu,self.ram)\n",
    "\n",
    "    def properties(self):\n",
    "        print(\"2nd methods\")\n",
    "\n",
    "\n",
    "\n",
    "comp1 = Computer('i5',8)\n",
    "print(comp1)\n",
    "# Computer.config(comp1)\n",
    "comp1.config()\n",
    "comp1.properties()\n",
    "\n"
   ]
  },
  {
   "cell_type": "code",
   "execution_count": 20,
   "metadata": {},
   "outputs": [
    {
     "name": "stdout",
     "output_type": "stream",
     "text": [
      "<module 're' from 'c:\\\\Users\\\\junai\\\\AppData\\\\Local\\\\Programs\\\\Python\\\\Python310\\\\lib\\\\re.py'>\n",
      "3\n",
      "5\n",
      "4\n"
     ]
    }
   ],
   "source": [
    "import random\n",
    "import re\n",
    "print(re)\n",
    "for i in range(3):\n",
    "    print(random.randint(1,5))"
   ]
  },
  {
   "cell_type": "markdown",
   "metadata": {},
   "source": [
    "### Insert At start, end, middle, and delete node method implementation"
   ]
  },
  {
   "cell_type": "code",
   "execution_count": 24,
   "metadata": {},
   "outputs": [
    {
     "name": "stdout",
     "output_type": "stream",
     "text": [
      "1 2 4 "
     ]
    },
    {
     "data": {
      "text/plain": [
       "3"
      ]
     },
     "execution_count": 24,
     "metadata": {},
     "output_type": "execute_result"
    }
   ],
   "source": [
    "class Node:\n",
    "    def __init__(self, data=None):\n",
    "        self.data = data\n",
    "        self.next = None\n",
    "        \n",
    "class LinkList:\n",
    "        \n",
    "\n",
    "    def __init__(self):\n",
    "        self.head = None\n",
    "        self.CurrNode = None\n",
    "   \n",
    "    def show(self):\n",
    "        node = self.head\n",
    "        while node is not None:\n",
    "            print(node.data,end=\" \")\n",
    "            node = node.next\n",
    "\n",
    "    def insertAtStart(self,new):\n",
    "        newNode = Node(new)\n",
    "        newNode.next = self.head\n",
    "        self.head = newNode\n",
    "            \n",
    "    def getCount(self):\n",
    "        temp = self.head # Initialise temp\n",
    "        count = 0 # Initialise count\n",
    "  \n",
    "        # Loop while end of linked list is not reached\n",
    "        while (temp):\n",
    "            count += 1\n",
    "            temp = temp.next\n",
    "        return count\n",
    "\n",
    "    def addMiddle(self,NewNode):\n",
    "        funcCount = self.getCount()\n",
    "        position  = funcCount//2\n",
    "        node = Node(NewNode)\n",
    "        temp = self.head\n",
    "        for i in range(position-1):\n",
    "            temp = temp.next\n",
    "            \n",
    "            \n",
    "        NextNode = temp.next  \n",
    "        temp.next =  node \n",
    "        node.next = NextNode\n",
    "\n",
    "    def insertAtEnd(self,NewNode):\n",
    "        temp = self.head\n",
    "        node = Node(NewNode)\n",
    "        while temp.next is not None:\n",
    "            temp = temp.next\n",
    "\n",
    "        temp.next = node\n",
    "        node.next = None \n",
    "       \n",
    "        \n",
    "        \n",
    "\n",
    "\n",
    "    def deleteNodeAtGivenPosition(self, position):\n",
    "        if self.head is None:\n",
    "            return \n",
    "        index = 0\n",
    "        current = self.head\n",
    "        while current.next and index < position:\n",
    "            previous = current\n",
    "            current = current.next\n",
    "            index += 1\n",
    "            \n",
    "        if index == 0:\n",
    "            self.head = self.head.next\n",
    "  \n",
    "        else:\n",
    "            previous.next = current.next\n",
    "            current = None # Optional statement\n",
    "\n",
    "  \n",
    "\n",
    "    \n",
    "link = LinkList()\n",
    "element = Node(1)\n",
    "el2 = Node(2)\n",
    "el3 = Node(3)\n",
    "\n",
    "link.head = element\n",
    "element.next = el2\n",
    "el2.next = el3\n",
    "\n",
    "# link.insertAtStart(4)\n",
    "\n",
    "\n",
    "# link.addMiddle(9)\n",
    "\n",
    "link.insertAtEnd(4)\n",
    "\n",
    "link.deleteNodeAtGivenPosition(2)\n",
    "\n",
    "link.show()\n",
    "link.getCount()"
   ]
  },
  {
   "cell_type": "markdown",
   "metadata": {},
   "source": [
    "### Stack Implementation"
   ]
  },
  {
   "cell_type": "code",
   "execution_count": 12,
   "metadata": {},
   "outputs": [
    {
     "name": "stdout",
     "output_type": "stream",
     "text": [
      "here is top element =  4\n",
      "4\n",
      "3\n",
      "2\n",
      "1\n"
     ]
    }
   ],
   "source": [
    "class StackWithArray:\n",
    "\n",
    "    def __init__(self):\n",
    "        self.stack = []\n",
    "        self.top = -1\n",
    "    \n",
    "    def isEmpty(self):\n",
    "        if self.top == -1:\n",
    "            return self.top\n",
    "    \n",
    "    def isFull(self, size):\n",
    "        if self.top == size:\n",
    "            print('stack is full')\n",
    "            \n",
    "\n",
    "    def Push(self, element):\n",
    "        self.top += 1\n",
    "        self.stack.append(element)\n",
    "        \n",
    "        \n",
    "    def Pop(self):\n",
    "            self.top -= 1\n",
    "            ele = self.stack.pop()   # pop builtin function tht removes last element of list\n",
    "            return ele\n",
    "    def print_stack(self):\n",
    "        for ele in range(self.top,-1,-1):\n",
    "            if ele == self.top:\n",
    "                print(self.stack[ele])       \n",
    "            else:\n",
    "                print(self.stack[ele])\n",
    "\n",
    "    def peek(self):\n",
    "        return self.stack[self.top]\n",
    "\n",
    "\n",
    "obj = StackWithArray()  \n",
    "\n",
    "obj.Push(1)\n",
    "obj.Push(2)\n",
    "obj.Push(3)\n",
    "obj.Push(4)\n",
    "obj.Push(5)\n",
    "\n",
    "obj.Pop()\n",
    "print('here is top element = ',obj.peek())\n",
    "\n",
    "obj.print_stack()"
   ]
  },
  {
   "cell_type": "markdown",
   "metadata": {},
   "source": [
    "#### Reverse the name using stack"
   ]
  },
  {
   "cell_type": "code",
   "execution_count": 122,
   "metadata": {},
   "outputs": [
    {
     "name": "stdout",
     "output_type": "stream",
     "text": [
      "N\n",
      "A\n",
      "H\n",
      "K\n",
      " \n",
      "I\n",
      "L\n",
      "A\n"
     ]
    }
   ],
   "source": [
    "name = StackWithArray()\n",
    "string = 'ALI KHAN'\n",
    "popStack = []\n",
    "\n",
    "for cha in string:\n",
    "    name.Push(cha)\n",
    "    \n",
    "for cha in string:\n",
    "    popStack = name.Pop()\n",
    "    print(popStack)\n",
    "\n",
    "    \n",
    "\n",
    "\n"
   ]
  },
  {
   "cell_type": "code",
   "execution_count": 25,
   "metadata": {},
   "outputs": [
    {
     "name": "stdout",
     "output_type": "stream",
     "text": [
      "1 2 3 1 2 3 4 5 "
     ]
    }
   ],
   "source": [
    "link_1 = LinkList()\n",
    "element = Node(1)\n",
    "el2 = Node(2)\n",
    "el3 = Node(3)\n",
    "\n",
    "link_1.head = element\n",
    "element.next = el2\n",
    "el2.next = el3\n",
    "\n",
    "link_1.show()\n",
    "print(\"/n\")\n",
    "# Here is linl list 2 data\n",
    "\n",
    "link_2 = LinkList()\n",
    "element = Node(1)\n",
    "el2 = Node(2)\n",
    "el3 = Node(3)\n",
    "el4 = Node(4)\n",
    "el5 = Node(5)\n",
    "\n",
    "\n",
    "link_2.head = element\n",
    "element.next = el2\n",
    "el2.next = el3\n",
    "el3.next = el4\n",
    "el4.next = el5\n",
    "\n",
    "link_2.show()\n",
    "\n",
    "\n",
    "# link_list_1 = [11,12,14,15,16,17]\n",
    "# link_list_2 = [1,2,4,5,6,7,8,15,16,17]\n",
    "\n",
    "# length_1 = len(link_list_1)\n",
    "# length_2 = len(link_list_2)\n",
    "\n",
    "# difference = abs(length_1 - length_2)\n",
    "\n",
    "# for i in range(0,difference):\n",
    "#     print(i)\n",
    "\n",
    "# print(difference)\n",
    "# print('l1 is ',length_1,'and l2 is ',length_2)\n",
    "\n",
    "\n",
    "\n"
   ]
  },
  {
   "cell_type": "code",
   "execution_count": null,
   "metadata": {},
   "outputs": [],
   "source": []
  }
 ],
 "metadata": {
  "kernelspec": {
   "display_name": "Python 3 (ipykernel)",
   "language": "python",
   "name": "python3"
  },
  "language_info": {
   "codemirror_mode": {
    "name": "ipython",
    "version": 3
   },
   "file_extension": ".py",
   "mimetype": "text/x-python",
   "name": "python",
   "nbconvert_exporter": "python",
   "pygments_lexer": "ipython3",
   "version": "3.10.0"
  },
  "vscode": {
   "interpreter": {
    "hash": "5c8977648fb8c10e8c89a85d41e68769d7d03115673ddd97845f422050911d65"
   }
  }
 },
 "nbformat": 4,
 "nbformat_minor": 2
}
