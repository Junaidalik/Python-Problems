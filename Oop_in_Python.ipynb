{
 "cells": [
  {
   "cell_type": "markdown",
   "metadata": {},
   "source": [
    "### OOP CONCEPTS IMPLEMENTATION IN PYTHON"
   ]
  },
  {
   "cell_type": "markdown",
   "metadata": {},
   "source": [
    "The name of class always is in Pascal notation --> 1st letter of every word is capital.\n",
    "There is also a camel notation 1st letter of word is small while other word has 1st letter capital.\n",
    "The name of function is in snake notaion. claculate_avg_speed etc.\n",
    "Function vs method\n",
    "Method is a special function which is written inside a class while function is a normal function which is written outside of class.\n",
    "len(list) is a function while list.append(2) is a method. There is a difference between call of a function and a method."
   ]
  },
  {
   "cell_type": "code",
   "execution_count": 19,
   "metadata": {},
   "outputs": [
    {
     "name": "stdout",
     "output_type": "stream",
     "text": [
      " \n",
      "        Hello,how would you like to proceed?\n",
      "        1. Enter 1 to create pin\n",
      "        2. Enter 2 to deposit\n",
      "        3. Enter 3 to withdraw\n",
      "        4. Enter 4 to check balance\n",
      "        5. Enter 5 to exit\n",
      "4\n",
      "Enter your pin4545\n",
      "4545\n"
     ]
    }
   ],
   "source": [
    "import pickle\n",
    "\n",
    "class Atm:\n",
    "    def __init__(self):\n",
    "        self.pin = ''\n",
    "        self.balance = 0\n",
    "\n",
    "        self.menu()\n",
    "    \n",
    "    def menu(self):\n",
    "        user_input = input(\"\"\" \n",
    "        Hello,how would you like to proceed?\n",
    "        1. Enter 1 to create pin\n",
    "        2. Enter 2 to deposit\n",
    "        3. Enter 3 to withdraw\n",
    "        4. Enter 4 to check balance\n",
    "        5. Enter 5 to exit\n",
    "\"\"\")\n",
    "    \n",
    "        if user_input == \"1\":\n",
    "            self.create_pin()\n",
    "        elif user_input == \"2\":\n",
    "            self.deposit()\n",
    "        elif user_input == \"3\":\n",
    "            self.withdraw_balance()\n",
    "        elif user_input == \"4\":\n",
    "            self.check_balance()\n",
    "        else:\n",
    "            print('bye!')\n",
    "        \n",
    "    def create_pin(self):\n",
    "        self.pin = int(input(\"Enter your pin \"))\n",
    "        print(\"pin set successfully!\")\n",
    "        self.save_object(self.pin)\n",
    "        \n",
    "    def deposit(self):\n",
    "        \n",
    "        passw = self.load_object(\"data.pickle\")\n",
    "        temp = int(input(\"Enter your pin \"))\n",
    "        if temp == passw:\n",
    "            amount = int(input(\"Enter amount to deposit\"))\n",
    "            self.balance = self.balance + amount\n",
    "            self.save_object(self.balance)\n",
    "            print(\"Deposit successful!\")\n",
    "        else:\n",
    "            print(\"Invalid pin \")\n",
    "        \n",
    "       \n",
    "            \n",
    "    def withdraw_balance(self):\n",
    "        temp = input(\"Enter your pin\")\n",
    "        if temp == self.pin:\n",
    "            amount = int(input(\"Enter amount for withdrawl\"))\n",
    "            if amount <= self.balance:\n",
    "                self.balance = self.balance - amount\n",
    "            else:\n",
    "                print(\"Insufficient balance!\")\n",
    "        else:\n",
    "            print(\"Invalid pin\")\n",
    "    \n",
    "    def check_balance(self):\n",
    "        passw = self.load_object(\"data.pickle\")\n",
    "        temp = int(input(\"Enter your pin\"))\n",
    "        if temp == passw:\n",
    "            bal = self.load_object(\"data.pickle\")\n",
    "            print(bal)\n",
    "        else:\n",
    "            print(\"Invalid pin\")\n",
    "            \n",
    "    def save_object(self,obj):\n",
    "        try:\n",
    "            with open(\"data.pickle\", \"wb\") as f:\n",
    "                pickle.dump(obj, f, protocol=pickle.HIGHEST_PROTOCOL)\n",
    "        except Exception as ex:\n",
    "            print(\"Error during pickling object (Possibly unsupported):\", ex)\n",
    "            \n",
    "    def load_object(self,filename):\n",
    "        try:\n",
    "            with open(filename, \"rb\") as f:\n",
    "                return pickle.load(f)\n",
    "        except Exception as ex:\n",
    "            print(\"Error during unpickling object (Possibly unsupported):\", ex)  \n",
    "        \n",
    "            \n",
    "\n",
    "    \n",
    "obj = Atm()\n",
    "\n",
    "\n"
   ]
  },
  {
   "cell_type": "code",
   "execution_count": 11,
   "metadata": {},
   "outputs": [],
   "source": [
    "import pickle\n",
    " \n",
    "class MyClass():\n",
    "    def __init__(self, param):\n",
    "        self.param = param\n",
    " \n",
    "def save_object(obj):\n",
    "    try:\n",
    "        with open(\"data.pickle\", \"wb\") as f:\n",
    "            pickle.dump(obj, f, protocol=pickle.HIGHEST_PROTOCOL)\n",
    "    except Exception as ex:\n",
    "        print(\"Error during pickling object (Possibly unsupported):\", ex)\n",
    " \n",
    "obj = MyClass(10)\n",
    "save_object(obj)\n",
    "\n"
   ]
  },
  {
   "cell_type": "code",
   "execution_count": 12,
   "metadata": {},
   "outputs": [
    {
     "name": "stdout",
     "output_type": "stream",
     "text": [
      "10\n",
      "True\n"
     ]
    }
   ],
   "source": [
    "import pickle\n",
    " \n",
    "class MyClass():\n",
    "    def __init__(self, param):\n",
    "        self.param = param\n",
    " \n",
    "def load_object(filename):\n",
    "    try:\n",
    "        with open(filename, \"rb\") as f:\n",
    "            return pickle.load(f)\n",
    "    except Exception as ex:\n",
    "        print(\"Error during unpickling object (Possibly unsupported):\", ex)\n",
    " \n",
    "obj = load_object(\"data.pickle\")\n",
    " \n",
    "print(obj.param)\n",
    "print(isinstance(obj, MyClass))"
   ]
  },
  {
   "cell_type": "code",
   "execution_count": 3,
   "metadata": {},
   "outputs": [
    {
     "name": "stdout",
     "output_type": "stream",
     "text": [
      "false\n"
     ]
    }
   ],
   "source": [
    "a = 1212\n",
    "b = 121\n",
    "\n",
    "if a == b:\n",
    "    print('true')\n",
    "else:\n",
    "    print('false')"
   ]
  }
 ],
 "metadata": {
  "kernelspec": {
   "display_name": "Python 3 (ipykernel)",
   "language": "python",
   "name": "python3"
  },
  "language_info": {
   "codemirror_mode": {
    "name": "ipython",
    "version": 3
   },
   "file_extension": ".py",
   "mimetype": "text/x-python",
   "name": "python",
   "nbconvert_exporter": "python",
   "pygments_lexer": "ipython3",
   "version": "3.10.0"
  },
  "vscode": {
   "interpreter": {
    "hash": "5c8977648fb8c10e8c89a85d41e68769d7d03115673ddd97845f422050911d65"
   }
  }
 },
 "nbformat": 4,
 "nbformat_minor": 2
}
